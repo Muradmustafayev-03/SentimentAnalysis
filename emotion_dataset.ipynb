{
 "cells": [
  {
   "cell_type": "markdown",
   "metadata": {
    "collapsed": false,
    "jupyter": {
     "outputs_hidden": false
    }
   },
   "source": [
    "# Emotion analysis on emotion dataset"
   ]
  },
  {
   "cell_type": "markdown",
   "metadata": {
    "collapsed": false,
    "jupyter": {
     "outputs_hidden": false
    }
   },
   "source": [
    "*The dataset is taken from: https://www.kaggle.com/datasets/praveengovi/emotions-dataset-for-nlp*"
   ]
  },
  {
   "cell_type": "code",
   "execution_count": 1,
   "metadata": {},
   "outputs": [],
   "source": [
    "import matplotlib.pyplot as plt\n",
    "import pandas as pd\n",
    "import numpy as np"
   ]
  },
  {
   "cell_type": "code",
   "execution_count": 2,
   "metadata": {
    "collapsed": false,
    "jupyter": {
     "outputs_hidden": false
    },
    "pycharm": {
     "is_executing": true,
     "name": "#%%\n"
    }
   },
   "outputs": [],
   "source": [
    "from preprocessing import filter_and_extract_lemma\n",
    "from preprocessing import enumerate_encode, one_hot_encode\n",
    "from preprocessing import one_hot_to_enumerate\n",
    "from tensorflow.data import Dataset"
   ]
  },
  {
   "cell_type": "code",
   "execution_count": 3,
   "metadata": {
    "collapsed": false,
    "jupyter": {
     "outputs_hidden": false
    },
    "pycharm": {
     "name": "#%%\n"
    }
   },
   "outputs": [],
   "source": [
    "from sklearn.neighbors import KNeighborsClassifier\n",
    "from sklearn.ensemble import RandomForestClassifier\n",
    "from sklearn.svm import SVC\n",
    "from sklearn.feature_extraction.text import TfidfVectorizer\n",
    "from sklearn.metrics import classification_report"
   ]
  },
  {
   "cell_type": "code",
   "execution_count": 4,
   "metadata": {
    "collapsed": false,
    "jupyter": {
     "outputs_hidden": false
    },
    "pycharm": {
     "name": "#%%\n"
    }
   },
   "outputs": [],
   "source": [
    "from keras.models import Sequential\n",
    "from keras.layers import Dense, LSTM, Input, Attention\n",
    "from keras.layers import Dropout, Embedding, BatchNormalization\n",
    "from keras.optimizers import Adam"
   ]
  },
  {
   "cell_type": "markdown",
   "metadata": {
    "collapsed": false,
    "jupyter": {
     "outputs_hidden": false
    }
   },
   "source": [
    "### Preprocess the data"
   ]
  },
  {
   "cell_type": "code",
   "execution_count": 5,
   "metadata": {
    "collapsed": false,
    "jupyter": {
     "outputs_hidden": false
    },
    "pycharm": {
     "name": "#%%\n"
    }
   },
   "outputs": [],
   "source": [
    "train = pd.read_csv('data/emotion_dataset/train.txt', sep=';', names=['Text', 'Emotion'])\n",
    "validation = pd.read_csv('data/emotion_dataset/val.txt', sep=';', names=['Text', 'Emotion'])\n",
    "test = pd.read_csv('data/emotion_dataset/test.txt', sep=';', names=['Text', 'Emotion'])"
   ]
  },
  {
   "cell_type": "code",
   "execution_count": 6,
   "metadata": {
    "collapsed": false,
    "jupyter": {
     "outputs_hidden": false
    },
    "pycharm": {
     "name": "#%%\n"
    }
   },
   "outputs": [],
   "source": [
    "train['Text'] = train['Text'].apply(filter_and_extract_lemma, True)\n",
    "validation['Text'] = validation['Text'].apply(filter_and_extract_lemma, True)\n",
    "test['Text'] = test['Text'].apply(filter_and_extract_lemma, True)"
   ]
  },
  {
   "cell_type": "code",
   "execution_count": 7,
   "metadata": {
    "collapsed": false,
    "jupyter": {
     "outputs_hidden": false
    },
    "pycharm": {
     "name": "#%%\n"
    }
   },
   "outputs": [
    {
     "data": {
      "text/plain": [
       "<16000x11830 sparse matrix of type '<class 'numpy.float64'>'\n",
       "\twith 123796 stored elements in Compressed Sparse Row format>"
      ]
     },
     "execution_count": 7,
     "metadata": {},
     "output_type": "execute_result"
    }
   ],
   "source": [
    "tokenizer = TfidfVectorizer()\n",
    "tokenizer.fit_transform(train['Text'])"
   ]
  },
  {
   "cell_type": "code",
   "execution_count": 8,
   "metadata": {
    "collapsed": false,
    "jupyter": {
     "outputs_hidden": false
    },
    "pycharm": {
     "name": "#%%\n"
    }
   },
   "outputs": [],
   "source": [
    "x_train = tokenizer.transform(train['Text'])\n",
    "x_val = tokenizer.transform(validation['Text'])\n",
    "x_test = tokenizer.transform(test['Text'])"
   ]
  },
  {
   "cell_type": "code",
   "execution_count": 9,
   "metadata": {
    "collapsed": false,
    "jupyter": {
     "outputs_hidden": false
    },
    "pycharm": {
     "name": "#%%\n"
    }
   },
   "outputs": [],
   "source": [
    "y_train = enumerate_encode(train['Emotion'])\n",
    "y_val = enumerate_encode(validation['Emotion'])\n",
    "y_test = enumerate_encode(test['Emotion'])"
   ]
  },
  {
   "cell_type": "markdown",
   "metadata": {
    "collapsed": false,
    "jupyter": {
     "outputs_hidden": false
    }
   },
   "source": [
    "## Traditional Machine Learning methods"
   ]
  },
  {
   "cell_type": "markdown",
   "metadata": {
    "collapsed": false,
    "jupyter": {
     "outputs_hidden": false
    }
   },
   "source": [
    "### K-Nearest Neighbours Classifier model"
   ]
  },
  {
   "cell_type": "code",
   "execution_count": 10,
   "metadata": {
    "collapsed": false,
    "jupyter": {
     "outputs_hidden": false
    },
    "pycharm": {
     "name": "#%%\n"
    },
    "scrolled": true
   },
   "outputs": [
    {
     "name": "stdout",
     "output_type": "stream",
     "text": [
      "              precision    recall  f1-score   support\n",
      "\n",
      "           0       0.73      0.75      0.74       275\n",
      "           1       0.78      0.74      0.76       224\n",
      "           2       0.78      0.86      0.82       695\n",
      "           3       0.70      0.54      0.61       159\n",
      "           4       0.83      0.82      0.82       581\n",
      "           5       0.69      0.41      0.51        66\n",
      "\n",
      "    accuracy                           0.78      2000\n",
      "   macro avg       0.75      0.69      0.71      2000\n",
      "weighted avg       0.78      0.78      0.78      2000\n",
      "\n"
     ]
    }
   ],
   "source": [
    "knn = KNeighborsClassifier()\n",
    "knn.fit(x_train, y_train)\n",
    "y_predict = knn.predict(x_test)\n",
    "report = classification_report(y_test, y_predict)\n",
    "print(report)"
   ]
  },
  {
   "cell_type": "markdown",
   "metadata": {
    "collapsed": false,
    "jupyter": {
     "outputs_hidden": false
    }
   },
   "source": [
    "### Random Forest Classifier model"
   ]
  },
  {
   "cell_type": "code",
   "execution_count": 11,
   "metadata": {},
   "outputs": [
    {
     "name": "stdout",
     "output_type": "stream",
     "text": [
      "              precision    recall  f1-score   support\n",
      "\n",
      "           0       0.90      0.84      0.87       275\n",
      "           1       0.83      0.84      0.84       224\n",
      "           2       0.85      0.92      0.88       695\n",
      "           3       0.78      0.64      0.70       159\n",
      "           4       0.92      0.91      0.91       581\n",
      "           5       0.64      0.58      0.61        66\n",
      "\n",
      "    accuracy                           0.86      2000\n",
      "   macro avg       0.82      0.79      0.80      2000\n",
      "weighted avg       0.86      0.86      0.86      2000\n",
      "\n"
     ]
    }
   ],
   "source": [
    "rf = RandomForestClassifier()\n",
    "rf.fit(x_train, y_train)\n",
    "y_predict = rf.predict(x_test)\n",
    "report = classification_report(y_test, y_predict)\n",
    "print(report)"
   ]
  },
  {
   "cell_type": "markdown",
   "metadata": {},
   "source": [
    "### Support Vector Machine Classifier"
   ]
  },
  {
   "cell_type": "code",
   "execution_count": 12,
   "metadata": {},
   "outputs": [
    {
     "name": "stdout",
     "output_type": "stream",
     "text": [
      "              precision    recall  f1-score   support\n",
      "\n",
      "           0       0.88      0.78      0.83       275\n",
      "           1       0.88      0.79      0.83       224\n",
      "           2       0.81      0.95      0.88       695\n",
      "           3       0.82      0.53      0.64       159\n",
      "           4       0.88      0.90      0.89       581\n",
      "           5       0.81      0.52      0.63        66\n",
      "\n",
      "    accuracy                           0.85      2000\n",
      "   macro avg       0.85      0.74      0.78      2000\n",
      "weighted avg       0.85      0.85      0.84      2000\n",
      "\n"
     ]
    }
   ],
   "source": [
    "svc = SVC()\n",
    "svc.fit(x_train, y_train)\n",
    "y_predict = svc.predict(x_test)\n",
    "report = classification_report(y_test, y_predict)\n",
    "print(report)"
   ]
  },
  {
   "cell_type": "markdown",
   "metadata": {
    "collapsed": false,
    "jupyter": {
     "outputs_hidden": false
    }
   },
   "source": [
    "## Neural Networks"
   ]
  },
  {
   "cell_type": "markdown",
   "metadata": {},
   "source": [
    "### Prepare the dataset"
   ]
  },
  {
   "cell_type": "code",
   "execution_count": 13,
   "metadata": {},
   "outputs": [],
   "source": [
    "x_train = x_train.todense()\n",
    "x_val = x_val.todense()\n",
    "x_test = x_test.todense()"
   ]
  },
  {
   "cell_type": "code",
   "execution_count": 14,
   "metadata": {},
   "outputs": [],
   "source": [
    "y_train = one_hot_encode(train['Emotion'])\n",
    "y_val = one_hot_encode(validation['Emotion'])\n",
    "y_test = one_hot_encode(test['Emotion'])"
   ]
  },
  {
   "cell_type": "code",
   "execution_count": 15,
   "metadata": {},
   "outputs": [],
   "source": [
    "# Prepare the training dataset\n",
    "train_dataset = Dataset.from_tensor_slices((x_train, y_train))\n",
    "train_dataset = train_dataset.shuffle(buffer_size=1024).batch(32)\n",
    "\n",
    "# Prepare the validation dataset\n",
    "val_dataset = Dataset.from_tensor_slices((x_val, y_val))\n",
    "val_dataset = val_dataset.batch(32)"
   ]
  },
  {
   "cell_type": "markdown",
   "metadata": {
    "collapsed": false,
    "jupyter": {
     "outputs_hidden": false
    }
   },
   "source": [
    "### Dense Neural Network model"
   ]
  },
  {
   "cell_type": "code",
   "execution_count": 94,
   "metadata": {},
   "outputs": [
    {
     "name": "stdout",
     "output_type": "stream",
     "text": [
      "Model: \"sequential_14\"\n",
      "_________________________________________________________________\n",
      " Layer (type)                Output Shape              Param #   \n",
      "=================================================================\n",
      " dense_46 (Dense)            (None, 16)                189296    \n",
      "                                                                 \n",
      " dropout_31 (Dropout)        (None, 16)                0         \n",
      "                                                                 \n",
      " dense_47 (Dense)            (None, 8)                 136       \n",
      "                                                                 \n",
      " batch_normalization (Batch  (None, 8)                 32        \n",
      " Normalization)                                                  \n",
      "                                                                 \n",
      " dense_48 (Dense)            (None, 16)                144       \n",
      "                                                                 \n",
      " dropout_32 (Dropout)        (None, 16)                0         \n",
      "                                                                 \n",
      " dense_49 (Dense)            (None, 6)                 102       \n",
      "                                                                 \n",
      "=================================================================\n",
      "Total params: 189710 (741.05 KB)\n",
      "Trainable params: 189694 (740.99 KB)\n",
      "Non-trainable params: 16 (64.00 Byte)\n",
      "_________________________________________________________________\n"
     ]
    }
   ],
   "source": [
    "dense = Sequential()\n",
    "dense.add(Input(x_train.shape[1]))\n",
    "\n",
    "dense.add(Dense(16, activation='relu'))\n",
    "dense.add(Dropout(0.5))\n",
    "\n",
    "dense.add(Dense(8, activation='relu'))\n",
    "dense.add(BatchNormalization())\n",
    "\n",
    "dense.add(Dense(16, activation='relu'))\n",
    "dense.add(Dropout(0.5))\n",
    "\n",
    "dense.add(Dense(y_train.shape[1], activation='softmax'))\n",
    "dense.summary()"
   ]
  },
  {
   "cell_type": "code",
   "execution_count": 95,
   "metadata": {},
   "outputs": [],
   "source": [
    "dense.compile(loss=['categorical_crossentropy'], metrics=['accuracy'], optimizer=Adam(0.0001))"
   ]
  },
  {
   "cell_type": "code",
   "execution_count": 96,
   "metadata": {},
   "outputs": [
    {
     "name": "stdout",
     "output_type": "stream",
     "text": [
      "Epoch 1/40\n",
      "500/500 [==============================] - 4s 6ms/step - loss: 1.7731 - accuracy: 0.2418 - val_loss: 1.7351 - val_accuracy: 0.3040\n",
      "Epoch 2/40\n",
      "500/500 [==============================] - 3s 6ms/step - loss: 1.6946 - accuracy: 0.3138 - val_loss: 1.6468 - val_accuracy: 0.3770\n",
      "Epoch 3/40\n",
      "500/500 [==============================] - 3s 6ms/step - loss: 1.6216 - accuracy: 0.3576 - val_loss: 1.5464 - val_accuracy: 0.4625\n",
      "Epoch 4/40\n",
      "500/500 [==============================] - 3s 6ms/step - loss: 1.5388 - accuracy: 0.4158 - val_loss: 1.4322 - val_accuracy: 0.5445\n",
      "Epoch 5/40\n",
      "500/500 [==============================] - 3s 6ms/step - loss: 1.4389 - accuracy: 0.4818 - val_loss: 1.3003 - val_accuracy: 0.5965\n",
      "Epoch 6/40\n",
      "500/500 [==============================] - 3s 6ms/step - loss: 1.3454 - accuracy: 0.5408 - val_loss: 1.1810 - val_accuracy: 0.6435\n",
      "Epoch 7/40\n",
      "500/500 [==============================] - 3s 6ms/step - loss: 1.2474 - accuracy: 0.5863 - val_loss: 1.0555 - val_accuracy: 0.6775\n",
      "Epoch 8/40\n",
      "500/500 [==============================] - 3s 6ms/step - loss: 1.1585 - accuracy: 0.6180 - val_loss: 0.9602 - val_accuracy: 0.7105\n",
      "Epoch 9/40\n",
      "500/500 [==============================] - 3s 6ms/step - loss: 1.0810 - accuracy: 0.6481 - val_loss: 0.8783 - val_accuracy: 0.7295\n",
      "Epoch 10/40\n",
      "500/500 [==============================] - 3s 6ms/step - loss: 1.0232 - accuracy: 0.6710 - val_loss: 0.8221 - val_accuracy: 0.7410\n",
      "Epoch 11/40\n",
      "500/500 [==============================] - 3s 6ms/step - loss: 0.9647 - accuracy: 0.6881 - val_loss: 0.7733 - val_accuracy: 0.7540\n",
      "Epoch 12/40\n",
      "500/500 [==============================] - 3s 6ms/step - loss: 0.9234 - accuracy: 0.7057 - val_loss: 0.7423 - val_accuracy: 0.7585\n",
      "Epoch 13/40\n",
      "500/500 [==============================] - 3s 6ms/step - loss: 0.8988 - accuracy: 0.7122 - val_loss: 0.7087 - val_accuracy: 0.7580\n",
      "Epoch 14/40\n",
      "500/500 [==============================] - 3s 6ms/step - loss: 0.8528 - accuracy: 0.7243 - val_loss: 0.6856 - val_accuracy: 0.7615\n",
      "Epoch 15/40\n",
      "500/500 [==============================] - 3s 6ms/step - loss: 0.8307 - accuracy: 0.7323 - val_loss: 0.6621 - val_accuracy: 0.7665\n",
      "Epoch 16/40\n",
      "500/500 [==============================] - 3s 6ms/step - loss: 0.7973 - accuracy: 0.7444 - val_loss: 0.6489 - val_accuracy: 0.7700\n",
      "Epoch 17/40\n",
      "500/500 [==============================] - 3s 6ms/step - loss: 0.7736 - accuracy: 0.7508 - val_loss: 0.6325 - val_accuracy: 0.7730\n",
      "Epoch 18/40\n",
      "500/500 [==============================] - 3s 6ms/step - loss: 0.7570 - accuracy: 0.7566 - val_loss: 0.6312 - val_accuracy: 0.7810\n",
      "Epoch 19/40\n",
      "500/500 [==============================] - 3s 6ms/step - loss: 0.7410 - accuracy: 0.7630 - val_loss: 0.6175 - val_accuracy: 0.7915\n",
      "Epoch 20/40\n",
      "500/500 [==============================] - 3s 6ms/step - loss: 0.7202 - accuracy: 0.7697 - val_loss: 0.6074 - val_accuracy: 0.7940\n",
      "Epoch 21/40\n",
      "500/500 [==============================] - 3s 6ms/step - loss: 0.7010 - accuracy: 0.7705 - val_loss: 0.6043 - val_accuracy: 0.7960\n",
      "Epoch 22/40\n",
      "500/500 [==============================] - 3s 6ms/step - loss: 0.7021 - accuracy: 0.7678 - val_loss: 0.5994 - val_accuracy: 0.8030\n",
      "Epoch 23/40\n",
      "500/500 [==============================] - 3s 6ms/step - loss: 0.6798 - accuracy: 0.7785 - val_loss: 0.5891 - val_accuracy: 0.8090\n",
      "Epoch 24/40\n",
      "500/500 [==============================] - 3s 6ms/step - loss: 0.6677 - accuracy: 0.7796 - val_loss: 0.5870 - val_accuracy: 0.8115\n",
      "Epoch 25/40\n",
      "500/500 [==============================] - 3s 6ms/step - loss: 0.6571 - accuracy: 0.7830 - val_loss: 0.5838 - val_accuracy: 0.8140\n",
      "Epoch 26/40\n",
      "500/500 [==============================] - 3s 6ms/step - loss: 0.6321 - accuracy: 0.7935 - val_loss: 0.5894 - val_accuracy: 0.8105\n",
      "Epoch 27/40\n",
      "500/500 [==============================] - 3s 6ms/step - loss: 0.6350 - accuracy: 0.7913 - val_loss: 0.5795 - val_accuracy: 0.8150\n",
      "Epoch 28/40\n",
      "500/500 [==============================] - 3s 6ms/step - loss: 0.6271 - accuracy: 0.7932 - val_loss: 0.5754 - val_accuracy: 0.8195\n",
      "Epoch 29/40\n",
      "500/500 [==============================] - 3s 6ms/step - loss: 0.6171 - accuracy: 0.7934 - val_loss: 0.5724 - val_accuracy: 0.8160\n",
      "Epoch 30/40\n",
      "500/500 [==============================] - 3s 6ms/step - loss: 0.6128 - accuracy: 0.7997 - val_loss: 0.5702 - val_accuracy: 0.8165\n",
      "Epoch 31/40\n",
      "500/500 [==============================] - 3s 6ms/step - loss: 0.5994 - accuracy: 0.8018 - val_loss: 0.5721 - val_accuracy: 0.8145\n",
      "Epoch 32/40\n",
      "500/500 [==============================] - 3s 6ms/step - loss: 0.6099 - accuracy: 0.7997 - val_loss: 0.5720 - val_accuracy: 0.8180\n",
      "Epoch 33/40\n",
      "500/500 [==============================] - 3s 6ms/step - loss: 0.5862 - accuracy: 0.8051 - val_loss: 0.5761 - val_accuracy: 0.8200\n",
      "Epoch 34/40\n",
      "500/500 [==============================] - 3s 7ms/step - loss: 0.5900 - accuracy: 0.8063 - val_loss: 0.5851 - val_accuracy: 0.8130\n",
      "Epoch 35/40\n",
      "500/500 [==============================] - 3s 6ms/step - loss: 0.5808 - accuracy: 0.8101 - val_loss: 0.5882 - val_accuracy: 0.8145\n",
      "Epoch 36/40\n",
      "500/500 [==============================] - 3s 6ms/step - loss: 0.5623 - accuracy: 0.8138 - val_loss: 0.5817 - val_accuracy: 0.8175\n",
      "Epoch 37/40\n",
      "500/500 [==============================] - 3s 6ms/step - loss: 0.5665 - accuracy: 0.8097 - val_loss: 0.5766 - val_accuracy: 0.8185\n",
      "Epoch 38/40\n",
      "500/500 [==============================] - 3s 6ms/step - loss: 0.5660 - accuracy: 0.8118 - val_loss: 0.5844 - val_accuracy: 0.8165\n",
      "Epoch 39/40\n",
      "500/500 [==============================] - 3s 6ms/step - loss: 0.5615 - accuracy: 0.8167 - val_loss: 0.5764 - val_accuracy: 0.8200\n",
      "Epoch 40/40\n",
      "500/500 [==============================] - 3s 6ms/step - loss: 0.5609 - accuracy: 0.8179 - val_loss: 0.5817 - val_accuracy: 0.8210\n"
     ]
    }
   ],
   "source": [
    "history = dense.fit(train_dataset, epochs=40, validation_data=val_dataset)"
   ]
  },
  {
   "cell_type": "code",
   "execution_count": 97,
   "metadata": {},
   "outputs": [
    {
     "data": {
      "image/png": "[encoded data removed]",
      "text/plain": [
       "<Figure size 640x480 with 1 Axes>"
      ]
     },
     "metadata": {},
     "output_type": "display_data"
    }
   ],
   "source": [
    "plt.plot(history.history['loss'])\n",
    "plt.plot(history.history['val_loss'])\n",
    "plt.title('model loss')\n",
    "plt.ylabel('categorical crossentropy')\n",
    "plt.xlabel('epoch')\n",
    "plt.legend(['train', 'validation'], loc='upper left')\n",
    "plt.show()"
   ]
  },
  {
   "cell_type": "code",
   "execution_count": 98,
   "metadata": {},
   "outputs": [
    {
     "name": "stdout",
     "output_type": "stream",
     "text": [
      "63/63 [==============================] - 0s 2ms/step\n"
     ]
    }
   ],
   "source": [
    "y_predict = dense.predict(x_test)\n",
    "# convert encodings to make the classification report\n",
    "y_predict = one_hot_to_enumerate(y_predict)\n",
    "y_expected = one_hot_to_enumerate(y_test)"
   ]
  },
  {
   "cell_type": "code",
   "execution_count": 99,
   "metadata": {},
   "outputs": [
    {
     "name": "stdout",
     "output_type": "stream",
     "text": [
      "              precision    recall  f1-score   support\n",
      "\n",
      "           0       0.87      0.80      0.83       275\n",
      "           1       0.76      0.82      0.79       224\n",
      "           2       0.85      0.89      0.87       695\n",
      "           3       0.61      0.59      0.60       159\n",
      "           4       0.86      0.91      0.88       581\n",
      "           5       0.75      0.05      0.09        66\n",
      "\n",
      "    accuracy                           0.82      2000\n",
      "   macro avg       0.78      0.68      0.68      2000\n",
      "weighted avg       0.82      0.82      0.81      2000\n",
      "\n"
     ]
    }
   ],
   "source": [
    "report = classification_report(y_expected, y_predict)\n",
    "print(report)"
   ]
  },
  {
   "cell_type": "code",
   "execution_count": null,
   "metadata": {},
   "outputs": [],
   "source": []
  }
 ],
 "metadata": {
  "kernelspec": {
   "display_name": "Python 3 (ipykernel)",
   "language": "python",
   "name": "python3"
  },
  "language_info": {
   "codemirror_mode": {
    "name": "ipython",
    "version": 3
   },
   "file_extension": ".py",
   "mimetype": "text/x-python",
   "name": "python",
   "nbconvert_exporter": "python",
   "pygments_lexer": "ipython3",
   "version": "3.9.7"
  }
 },
 "nbformat": 4,
 "nbformat_minor": 4
}